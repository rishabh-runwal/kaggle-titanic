{
 "cells": [
  {
   "cell_type": "code",
   "execution_count": 48,
   "metadata": {},
   "outputs": [],
   "source": [
    "import numpy as np\n",
    "import pandas as pd\n",
    "from sklearn import tree\n",
    "from sklearn.svm import SVC\n",
    "from sklearn import linear_model\n",
    "from sklearn.linear_model import LogisticRegression\n",
    "from sklearn.model_selection import train_test_split\n",
    "from sklearn.neighbors import KNeighborsClassifier\n",
    "from sklearn import preprocessing\n",
    "from sklearn.ensemble import RandomForestClassifier\n",
    "from sklearn.metrics import confusion_matrix\n",
    "from sklearn.model_selection import cross_val_predict\n",
    "import matplotlib.pyplot as plt\n",
    "import seaborn as sns\n",
    "import warnings\n",
    "warnings.filterwarnings(\"ignore\")\n"
   ]
  },
  {
   "cell_type": "code",
   "execution_count": 49,
   "metadata": {},
   "outputs": [
    {
     "data": {
      "text/html": [
       "<div>\n",
       "<style scoped>\n",
       "    .dataframe tbody tr th:only-of-type {\n",
       "        vertical-align: middle;\n",
       "    }\n",
       "\n",
       "    .dataframe tbody tr th {\n",
       "        vertical-align: top;\n",
       "    }\n",
       "\n",
       "    .dataframe thead th {\n",
       "        text-align: right;\n",
       "    }\n",
       "</style>\n",
       "<table border=\"1\" class=\"dataframe\">\n",
       "  <thead>\n",
       "    <tr style=\"text-align: right;\">\n",
       "      <th></th>\n",
       "      <th>Survived</th>\n",
       "      <th>Pclass</th>\n",
       "      <th>Name</th>\n",
       "      <th>Sex</th>\n",
       "      <th>Age</th>\n",
       "      <th>SibSp</th>\n",
       "      <th>Parch</th>\n",
       "      <th>Ticket</th>\n",
       "      <th>Fare</th>\n",
       "      <th>Cabin</th>\n",
       "      <th>Embarked</th>\n",
       "    </tr>\n",
       "    <tr>\n",
       "      <th>PassengerId</th>\n",
       "      <th></th>\n",
       "      <th></th>\n",
       "      <th></th>\n",
       "      <th></th>\n",
       "      <th></th>\n",
       "      <th></th>\n",
       "      <th></th>\n",
       "      <th></th>\n",
       "      <th></th>\n",
       "      <th></th>\n",
       "      <th></th>\n",
       "    </tr>\n",
       "  </thead>\n",
       "  <tbody>\n",
       "    <tr>\n",
       "      <td>1</td>\n",
       "      <td>0</td>\n",
       "      <td>3</td>\n",
       "      <td>Braund, Mr. Owen Harris</td>\n",
       "      <td>male</td>\n",
       "      <td>22.0</td>\n",
       "      <td>1</td>\n",
       "      <td>0</td>\n",
       "      <td>A/5 21171</td>\n",
       "      <td>7.2500</td>\n",
       "      <td>NaN</td>\n",
       "      <td>S</td>\n",
       "    </tr>\n",
       "    <tr>\n",
       "      <td>2</td>\n",
       "      <td>1</td>\n",
       "      <td>1</td>\n",
       "      <td>Cumings, Mrs. John Bradley (Florence Briggs Th...</td>\n",
       "      <td>female</td>\n",
       "      <td>38.0</td>\n",
       "      <td>1</td>\n",
       "      <td>0</td>\n",
       "      <td>PC 17599</td>\n",
       "      <td>71.2833</td>\n",
       "      <td>C85</td>\n",
       "      <td>C</td>\n",
       "    </tr>\n",
       "    <tr>\n",
       "      <td>3</td>\n",
       "      <td>1</td>\n",
       "      <td>3</td>\n",
       "      <td>Heikkinen, Miss. Laina</td>\n",
       "      <td>female</td>\n",
       "      <td>26.0</td>\n",
       "      <td>0</td>\n",
       "      <td>0</td>\n",
       "      <td>STON/O2. 3101282</td>\n",
       "      <td>7.9250</td>\n",
       "      <td>NaN</td>\n",
       "      <td>S</td>\n",
       "    </tr>\n",
       "    <tr>\n",
       "      <td>4</td>\n",
       "      <td>1</td>\n",
       "      <td>1</td>\n",
       "      <td>Futrelle, Mrs. Jacques Heath (Lily May Peel)</td>\n",
       "      <td>female</td>\n",
       "      <td>35.0</td>\n",
       "      <td>1</td>\n",
       "      <td>0</td>\n",
       "      <td>113803</td>\n",
       "      <td>53.1000</td>\n",
       "      <td>C123</td>\n",
       "      <td>S</td>\n",
       "    </tr>\n",
       "    <tr>\n",
       "      <td>5</td>\n",
       "      <td>0</td>\n",
       "      <td>3</td>\n",
       "      <td>Allen, Mr. William Henry</td>\n",
       "      <td>male</td>\n",
       "      <td>35.0</td>\n",
       "      <td>0</td>\n",
       "      <td>0</td>\n",
       "      <td>373450</td>\n",
       "      <td>8.0500</td>\n",
       "      <td>NaN</td>\n",
       "      <td>S</td>\n",
       "    </tr>\n",
       "    <tr>\n",
       "      <td>6</td>\n",
       "      <td>0</td>\n",
       "      <td>3</td>\n",
       "      <td>Moran, Mr. James</td>\n",
       "      <td>male</td>\n",
       "      <td>NaN</td>\n",
       "      <td>0</td>\n",
       "      <td>0</td>\n",
       "      <td>330877</td>\n",
       "      <td>8.4583</td>\n",
       "      <td>NaN</td>\n",
       "      <td>Q</td>\n",
       "    </tr>\n",
       "    <tr>\n",
       "      <td>7</td>\n",
       "      <td>0</td>\n",
       "      <td>1</td>\n",
       "      <td>McCarthy, Mr. Timothy J</td>\n",
       "      <td>male</td>\n",
       "      <td>54.0</td>\n",
       "      <td>0</td>\n",
       "      <td>0</td>\n",
       "      <td>17463</td>\n",
       "      <td>51.8625</td>\n",
       "      <td>E46</td>\n",
       "      <td>S</td>\n",
       "    </tr>\n",
       "    <tr>\n",
       "      <td>8</td>\n",
       "      <td>0</td>\n",
       "      <td>3</td>\n",
       "      <td>Palsson, Master. Gosta Leonard</td>\n",
       "      <td>male</td>\n",
       "      <td>2.0</td>\n",
       "      <td>3</td>\n",
       "      <td>1</td>\n",
       "      <td>349909</td>\n",
       "      <td>21.0750</td>\n",
       "      <td>NaN</td>\n",
       "      <td>S</td>\n",
       "    </tr>\n",
       "    <tr>\n",
       "      <td>9</td>\n",
       "      <td>1</td>\n",
       "      <td>3</td>\n",
       "      <td>Johnson, Mrs. Oscar W (Elisabeth Vilhelmina Berg)</td>\n",
       "      <td>female</td>\n",
       "      <td>27.0</td>\n",
       "      <td>0</td>\n",
       "      <td>2</td>\n",
       "      <td>347742</td>\n",
       "      <td>11.1333</td>\n",
       "      <td>NaN</td>\n",
       "      <td>S</td>\n",
       "    </tr>\n",
       "    <tr>\n",
       "      <td>10</td>\n",
       "      <td>1</td>\n",
       "      <td>2</td>\n",
       "      <td>Nasser, Mrs. Nicholas (Adele Achem)</td>\n",
       "      <td>female</td>\n",
       "      <td>14.0</td>\n",
       "      <td>1</td>\n",
       "      <td>0</td>\n",
       "      <td>237736</td>\n",
       "      <td>30.0708</td>\n",
       "      <td>NaN</td>\n",
       "      <td>C</td>\n",
       "    </tr>\n",
       "  </tbody>\n",
       "</table>\n",
       "</div>"
      ],
      "text/plain": [
       "             Survived  Pclass  \\\n",
       "PassengerId                     \n",
       "1                   0       3   \n",
       "2                   1       1   \n",
       "3                   1       3   \n",
       "4                   1       1   \n",
       "5                   0       3   \n",
       "6                   0       3   \n",
       "7                   0       1   \n",
       "8                   0       3   \n",
       "9                   1       3   \n",
       "10                  1       2   \n",
       "\n",
       "                                                          Name     Sex   Age  \\\n",
       "PassengerId                                                                    \n",
       "1                                      Braund, Mr. Owen Harris    male  22.0   \n",
       "2            Cumings, Mrs. John Bradley (Florence Briggs Th...  female  38.0   \n",
       "3                                       Heikkinen, Miss. Laina  female  26.0   \n",
       "4                 Futrelle, Mrs. Jacques Heath (Lily May Peel)  female  35.0   \n",
       "5                                     Allen, Mr. William Henry    male  35.0   \n",
       "6                                             Moran, Mr. James    male   NaN   \n",
       "7                                      McCarthy, Mr. Timothy J    male  54.0   \n",
       "8                               Palsson, Master. Gosta Leonard    male   2.0   \n",
       "9            Johnson, Mrs. Oscar W (Elisabeth Vilhelmina Berg)  female  27.0   \n",
       "10                         Nasser, Mrs. Nicholas (Adele Achem)  female  14.0   \n",
       "\n",
       "             SibSp  Parch            Ticket     Fare Cabin Embarked  \n",
       "PassengerId                                                          \n",
       "1                1      0         A/5 21171   7.2500   NaN        S  \n",
       "2                1      0          PC 17599  71.2833   C85        C  \n",
       "3                0      0  STON/O2. 3101282   7.9250   NaN        S  \n",
       "4                1      0            113803  53.1000  C123        S  \n",
       "5                0      0            373450   8.0500   NaN        S  \n",
       "6                0      0            330877   8.4583   NaN        Q  \n",
       "7                0      0             17463  51.8625   E46        S  \n",
       "8                3      1            349909  21.0750   NaN        S  \n",
       "9                0      2            347742  11.1333   NaN        S  \n",
       "10               1      0            237736  30.0708   NaN        C  "
      ]
     },
     "execution_count": 49,
     "metadata": {},
     "output_type": "execute_result"
    }
   ],
   "source": [
    "train = pd.read_csv(r'C:\\Users\\Rishabh\\Downloads\\titanic (1)\\train.csv')\n",
    "test = pd.read_csv(r\"C:\\Users\\Rishabh\\Downloads\\titanic (1)\\test.csv\")\n",
    "train.set_index(['PassengerId'],inplace=True)\n",
    "test.set_index(['PassengerId'],inplace=True)\n",
    "train.head(10)\n",
    "\n"
   ]
  },
  {
   "cell_type": "code",
   "execution_count": 50,
   "metadata": {},
   "outputs": [
    {
     "data": {
      "image/png": "[encoded data removed]",
      "text/plain": [
       "<Figure size 432x288 with 1 Axes>"
      ]
     },
     "metadata": {
      "needs_background": "light"
     },
     "output_type": "display_data"
    }
   ],
   "source": [
    "sns.distplot(train['Fare'])\n",
    "plt.show()\n"
   ]
  },
  {
   "cell_type": "code",
   "execution_count": 51,
   "metadata": {},
   "outputs": [],
   "source": [
    "train[\"Fare\"] = train[\"Fare\"].fillna(train[\"Fare\"].median())\n",
    "train.loc[train[\"Fare\"]<=5,\"Fare\"]=0\n",
    "train.loc[(train['Fare'] > 5) & (train['Fare'] <= 10),\"Fare\"]=1\n",
    "train.loc[(train['Fare'] > 10) & (train['Fare'] <= 20),\"Fare\"]=2\n",
    "train.loc[(train['Fare'] > 20) & (train['Fare'] <= 50),\"Fare\"]=3\n",
    "train.loc[(train['Fare'] > 50) & (train['Fare'] <= 100),\"Fare\"]=4\n",
    "train.loc[(train['Fare'] > 100) & (train['Fare'] <= 200),\"Fare\"]=5\n",
    "train.loc[200<train[\"Fare\"],\"Fare\"]=10\n"
   ]
  },
  {
   "cell_type": "code",
   "execution_count": 52,
   "metadata": {},
   "outputs": [
    {
     "data": {
      "image/png": "[encoded data removed]",
      "text/plain": [
       "<Figure size 432x288 with 1 Axes>"
      ]
     },
     "metadata": {
      "needs_background": "light"
     },
     "output_type": "display_data"
    }
   ],
   "source": [
    "train.Fare.plot(kind=\"kde\")\n",
    "plt.show()"
   ]
  },
  {
   "cell_type": "code",
   "execution_count": 53,
   "metadata": {},
   "outputs": [
    {
     "data": {
      "image/png": "[encoded data removed]",
      "text/plain": [
       "<Figure size 432x288 with 1 Axes>"
      ]
     },
     "metadata": {
      "needs_background": "light"
     },
     "output_type": "display_data"
    }
   ],
   "source": [
    "train[\"Age\"] = train[\"Age\"].fillna(train[\"Age\"].median())\n",
    "sns.distplot(train['Age'])\n",
    "\n",
    "plt.show()"
   ]
  },
  {
   "cell_type": "code",
   "execution_count": 54,
   "metadata": {},
   "outputs": [
    {
     "data": {
      "image/png": "[encoded data removed]",
      "text/plain": [
       "<Figure size 432x288 with 1 Axes>"
      ]
     },
     "metadata": {
      "needs_background": "light"
     },
     "output_type": "display_data"
    }
   ],
   "source": [
    "train[\"Age\"] = train[\"Age\"].fillna(train[\"Age\"].median())\n",
    "sns.distplot(train['Age'])\n",
    "\n",
    "plt.show()"
   ]
  },
  {
   "cell_type": "code",
   "execution_count": 55,
   "metadata": {},
   "outputs": [],
   "source": [
    "train.loc[train[\"Age\"]<=5,\"Age\"]=0\n",
    "train.loc[(train['Age'] > 5) & (train['Age'] <= 10),\"Age\"]=1\n",
    "train.loc[(train['Age'] > 10) & (train['Age'] <= 20),\"Age\"]=2\n",
    "train.loc[(train['Age'] > 20) & (train['Age'] <= 30),\"Age\"]=3\n",
    "train.loc[(train['Age'] > 30) & (train['Age'] <= 40),\"Age\"]=4\n",
    "train.loc[(train['Age'] > 40) & (train['Age'] <= 50),\"Age\"]=5\n",
    "train.loc[(train['Age'] > 50) & (train['Age'] <= 60),\"Age\"]=6\n",
    "train.loc[(train['Age'] > 60) & (train['Age'] <= 70),\"Age\"]=7\n",
    "train.loc[(train['Age'] > 70) & (train['Age'] <= 80),\"Age\"]=8\n",
    "train.loc[train[\"Age\"]>80,\"Age\"]=10\n"
   ]
  },
  {
   "cell_type": "code",
   "execution_count": 56,
   "metadata": {},
   "outputs": [
    {
     "data": {
      "image/png": "[encoded data removed]",
      "text/plain": [
       "<Figure size 432x288 with 1 Axes>"
      ]
     },
     "metadata": {
      "needs_background": "light"
     },
     "output_type": "display_data"
    }
   ],
   "source": [
    "train[\"Embarked\"] = train[\"Embarked\"].fillna('S')\n",
    "train.loc[train[\"Embarked\"]=='S',\"Embarked\"]=1\n",
    "train.loc[train[\"Embarked\"]=='C',\"Embarked\"]=2\n",
    "train.loc[train[\"Embarked\"]=='Q',\"Embarked\"]=3\n",
    "\n",
    "\n",
    "sns.distplot(train['Embarked'])\n",
    "\n",
    "plt.show()"
   ]
  },
  {
   "cell_type": "code",
   "execution_count": 57,
   "metadata": {},
   "outputs": [
    {
     "data": {
      "image/png": "[encoded data removed]",
      "text/plain": [
       "<Figure size 432x288 with 1 Axes>"
      ]
     },
     "metadata": {
      "needs_background": "light"
     },
     "output_type": "display_data"
    }
   ],
   "source": [
    "train.loc[train[\"Sex\"]==\"male\",\"Sex\"]=0\n",
    "train.loc[train[\"Sex\"]==\"female\",\"Sex\"]=1\n",
    "\n",
    "sns.distplot(train['Sex'])\n",
    "\n",
    "plt.show()"
   ]
  },
  {
   "cell_type": "code",
   "execution_count": 58,
   "metadata": {},
   "outputs": [
    {
     "data": {
      "image/png": "[encoded data removed]",
      "text/plain": [
       "<Figure size 432x288 with 1 Axes>"
      ]
     },
     "metadata": {
      "needs_background": "light"
     },
     "output_type": "display_data"
    }
   ],
   "source": [
    "train[\"Cabin\"] = train[\"Cabin\"].fillna('0')\n",
    "train['Cabin'] = train['Cabin'].str.extract(pat = '([ABCDEFGT0])')\n",
    "train.loc[train[\"Cabin\"]=='A',\"Cabin\"]=1\n",
    "train.loc[train[\"Cabin\"]=='B',\"Cabin\"]=2\n",
    "train.loc[train[\"Cabin\"]=='C',\"Cabin\"]=3\n",
    "train.loc[train[\"Cabin\"]=='D',\"Cabin\"]=4\n",
    "train.loc[train[\"Cabin\"]=='E',\"Cabin\"]=5\n",
    "train.loc[train[\"Cabin\"]=='F',\"Cabin\"]=6\n",
    "train.loc[train[\"Cabin\"]=='G',\"Cabin\"]=7\n",
    "train.loc[train[\"Cabin\"]=='T',\"Cabin\"]=10\n",
    "train.loc[train[\"Cabin\"]=='0',\"Cabin\"]=0\n",
    "\n",
    "sns.distplot(train['Cabin'])\n",
    "\n",
    "plt.show()"
   ]
  },
  {
   "cell_type": "code",
   "execution_count": 59,
   "metadata": {},
   "outputs": [],
   "source": [
    "train = train.drop(['Ticket'], axis=1)\n",
    "train = train.drop(['Name'], axis=1)\n",
    "test = test.drop(['Ticket'], axis=1)\n",
    "test = test.drop(['Name'], axis=1)"
   ]
  },
  {
   "cell_type": "code",
   "execution_count": 60,
   "metadata": {},
   "outputs": [
    {
     "name": "stdout",
     "output_type": "stream",
     "text": [
      "             Pclass  Sex  Age  SibSp  Parch  Fare Cabin  Embarked\n",
      "PassengerId                                                      \n",
      "892               3    0  4.0      0      0   1.0     0         3\n",
      "893               3    1  5.0      1      0   1.0     0         1\n",
      "894               2    0  7.0      0      0   1.0     0         3\n",
      "895               3    0  3.0      0      0   1.0     0         1\n",
      "896               3    1  3.0      1      1   2.0     0         1\n"
     ]
    }
   ],
   "source": [
    "test.loc[test[\"Embarked\"]=='S',\"Embarked\"]=1\n",
    "test.loc[test[\"Embarked\"]=='C',\"Embarked\"]=2\n",
    "test.loc[test[\"Embarked\"]=='Q',\"Embarked\"]=3\n",
    "\n",
    "test.loc[test[\"Sex\"]==\"male\",\"Sex\"]=0\n",
    "test.loc[test[\"Sex\"]==\"female\",\"Sex\"]=1\n",
    "\n",
    "\n",
    "\n",
    "test[\"Fare\"] = test[\"Fare\"].fillna(test[\"Fare\"].median())\n",
    "test.loc[test[\"Fare\"]<=5,\"Fare\"]=0\n",
    "test.loc[(test['Fare'] > 5) & (test['Fare'] <= 10),\"Fare\"]=1\n",
    "test.loc[(test['Fare'] > 10) & (test['Fare'] <= 20),\"Fare\"]=2\n",
    "test.loc[(test['Fare'] > 20) & (test['Fare'] <= 50),\"Fare\"]=3\n",
    "test.loc[(test['Fare'] > 50) & (test['Fare'] <= 100),\"Fare\"]=4\n",
    "test.loc[(test['Fare'] > 100) & (test['Fare'] <= 200),\"Fare\"]=5\n",
    "test.loc[200<test[\"Fare\"],\"Fare\"]=10\n",
    "\n",
    "test[\"Age\"] = test[\"Age\"].fillna(test[\"Age\"].median())\n",
    "\n",
    "test[\"Cabin\"] = test[\"Cabin\"].fillna('0')\n",
    "test['Cabin'] = test['Cabin'].str.extract(pat = '([ABCDEFG0T])')\n",
    "test.loc[test[\"Cabin\"]=='A',\"Cabin\"]=1\n",
    "test.loc[test[\"Cabin\"]=='B',\"Cabin\"]=2\n",
    "test.loc[test[\"Cabin\"]=='C',\"Cabin\"]=3\n",
    "test.loc[test[\"Cabin\"]=='D',\"Cabin\"]=4\n",
    "test.loc[test[\"Cabin\"]=='E',\"Cabin\"]=5\n",
    "test.loc[test[\"Cabin\"]=='F',\"Cabin\"]=6\n",
    "test.loc[test[\"Cabin\"]=='G',\"Cabin\"]=7\n",
    "test.loc[test[\"Cabin\"]=='T',\"Cabin\"]=10\n",
    "\n",
    "test.loc[test[\"Age\"]<=5,\"Age\"]=0\n",
    "test.loc[(test['Age'] > 5) & (test['Age'] <= 10),\"Age\"]=1\n",
    "test.loc[(test['Age'] > 10) & (test['Age'] <= 20),\"Age\"]=2\n",
    "test.loc[(test['Age'] > 20) & (test['Age'] <= 30),\"Age\"]=3\n",
    "test.loc[(test['Age'] > 30) & (test['Age'] <= 40),\"Age\"]=4\n",
    "test.loc[(test['Age'] > 40) & (test['Age'] <= 50),\"Age\"]=5\n",
    "test.loc[(test['Age'] > 50) & (test['Age'] <= 60),\"Age\"]=6\n",
    "test.loc[(test['Age'] > 60) & (test['Age'] <= 70),\"Age\"]=7\n",
    "test.loc[(test['Age'] > 70) & (test['Age'] <= 80),\"Age\"]=8\n",
    "test.loc[80<test[\"Age\"],\"Age\"]=10\n",
    "\n",
    "\n",
    "print(test.head())"
   ]
  },
  {
   "cell_type": "code",
   "execution_count": 61,
   "metadata": {},
   "outputs": [
    {
     "name": "stdout",
     "output_type": "stream",
     "text": [
      "             Survived  Pclass  Sex  Age  Fare  Cabin  Embarked  Fam_Size\n",
      "PassengerId                                                             \n",
      "1                   0       3    0  3.0   1.0      0         1         2\n",
      "2                   1       1    1  4.0   4.0      3         2         2\n",
      "3                   1       3    1  3.0   1.0      0         1         1\n",
      "4                   1       1    1  4.0   4.0      3         1         2\n",
      "5                   0       3    0  4.0   1.0      0         1         1\n"
     ]
    }
   ],
   "source": [
    "for i in [train, test]:\n",
    "        i['Fam_Size'] = np.where((i['SibSp']+i['Parch']) == 0 , 1,\n",
    "                            np.where((i['SibSp']+i['Parch']) <= 3,2, 3))\n",
    "        del i['SibSp']\n",
    "        del i['Parch']\n",
    "print(train.head())"
   ]
  },
  {
   "cell_type": "code",
   "execution_count": 62,
   "metadata": {},
   "outputs": [],
   "source": [
    "x=train.iloc[:,1:9]\n",
    "y=train.iloc[:,0]\n",
    "test_features = test.iloc[:,:]"
   ]
  },
  {
   "cell_type": "code",
   "execution_count": 63,
   "metadata": {},
   "outputs": [
    {
     "name": "stdout",
     "output_type": "stream",
     "text": [
      "0.8114478114478114\n"
     ]
    },
    {
     "data": {
      "text/plain": [
       "Text(0.5, 1.05, 'Confusion_matrix for Linear')"
      ]
     },
     "execution_count": 63,
     "metadata": {},
     "output_type": "execute_result"
    },
    {
     "data": {
      "image/png": "[encoded data removed]",
      "text/plain": [
       "<Figure size 432x288 with 2 Axes>"
      ]
     },
     "metadata": {
      "needs_background": "light"
     },
     "output_type": "display_data"
    }
   ],
   "source": [
    "classifier=linear_model.LogisticRegression()\n",
    "classifier1= classifier.fit(x,y)\n",
    "y_pred = cross_val_predict(classifier,X_train,y_train,cv=10)\n",
    "print(classifier1.score(x,y))\n",
    "prediction = classifier1.predict(test_features) \n",
    "\n",
    "sns.heatmap(confusion_matrix(y_train,y_pred),annot=True,fmt='3.0f',cmap=\"summer\")\n",
    "plt.title('Confusion_matrix for Linear', y=1.05, size=15)\n"
   ]
  },
  {
   "cell_type": "code",
   "execution_count": 64,
   "metadata": {},
   "outputs": [
    {
     "name": "stdout",
     "output_type": "stream",
     "text": [
      "0.8327721661054994\n"
     ]
    },
    {
     "data": {
      "text/plain": [
       "Text(0.5, 1.05, 'Confusion_matrix for Logistic')"
      ]
     },
     "execution_count": 64,
     "metadata": {},
     "output_type": "execute_result"
    },
    {
     "data": {
      "image/png": "[encoded data removed]",
      "text/plain": [
       "<Figure size 432x288 with 2 Axes>"
      ]
     },
     "metadata": {
      "needs_background": "light"
     },
     "output_type": "display_data"
    }
   ],
   "source": [
    "\n",
    "p = preprocessing.PolynomialFeatures(degree=2)\n",
    "p_features = p.fit_transform(x)\n",
    "classifier1= classifier.fit(p_features,y)\n",
    "print(classifier1.score(p_features,y))\n",
    "y_pred = cross_val_predict(classifier,X_train,y_train,cv=10)\n",
    "\n",
    "q = preprocessing.PolynomialFeatures(degree=2)\n",
    "q_features = q.fit_transform(test_features)\n",
    "prediction = classifier1.predict(q_features) \n",
    "\n",
    "sns.heatmap(confusion_matrix(y_train,y_pred),annot=True,fmt='3.0f',cmap=\"summer\")\n",
    "plt.title('Confusion_matrix for Logistic', y=1.05, size=15)\n"
   ]
  },
  {
   "cell_type": "code",
   "execution_count": 65,
   "metadata": {},
   "outputs": [
    {
     "name": "stdout",
     "output_type": "stream",
     "text": [
      "0.8333333333333334\n"
     ]
    },
    {
     "data": {
      "text/plain": [
       "Text(0.5, 1.05, 'Confusion_matrix for KNN')"
      ]
     },
     "execution_count": 65,
     "metadata": {},
     "output_type": "execute_result"
    },
    {
     "data": {
      "image/png": "[encoded data removed]",
      "text/plain": [
       "<Figure size 432x288 with 2 Axes>"
      ]
     },
     "metadata": {
      "needs_background": "light"
     },
     "output_type": "display_data"
    }
   ],
   "source": [
    "x=train.iloc[:,1:9]\n",
    "y=train.iloc[:,0]\n",
    "\n",
    "X_train, X_test, y_train, y_test = train_test_split(x, y,test_size = 42,random_state=0)\n",
    "\n",
    "classifier=KNeighborsClassifier(n_neighbors=7)\n",
    "classifier.fit(X_train,y_train)\n",
    "y_pred = cross_val_predict(classifier,X_train,y_train,cv=10)\n",
    "print(classifier.score(X_test,y_test))\n",
    "prediction = classifier.predict(test)\n",
    "\n",
    "sns.heatmap(confusion_matrix(y_train,y_pred),annot=True,fmt='3.0f',cmap=\"summer\")\n",
    "plt.title('Confusion_matrix for KNN', y=1.05, size=15)\n"
   ]
  },
  {
   "cell_type": "code",
   "execution_count": 66,
   "metadata": {},
   "outputs": [
    {
     "name": "stdout",
     "output_type": "stream",
     "text": [
      "0.9523809523809523\n"
     ]
    },
    {
     "data": {
      "text/plain": [
       "Text(0.5, 1.05, 'Confusion_matrix for RF')"
      ]
     },
     "execution_count": 66,
     "metadata": {},
     "output_type": "execute_result"
    },
    {
     "data": {
      "image/png": "[encoded data removed]",
      "text/plain": [
       "<Figure size 432x288 with 2 Axes>"
      ]
     },
     "metadata": {
      "needs_background": "light"
     },
     "output_type": "display_data"
    }
   ],
   "source": [
    "model = RandomForestClassifier(criterion='gini', \n",
    "                             n_estimators=30,\n",
    "                             min_samples_split=10,\n",
    "                             min_samples_leaf=1,\n",
    "                             max_features='auto',\n",
    "                             oob_score=True,\n",
    "                             random_state=1,\n",
    "                             n_jobs=-1)\n",
    "model.fit(x, y)\n",
    "predicted_labels = model.predict(test_features)\n",
    "y_pred = cross_val_predict(model,X_train,y_train,cv=10)\n",
    "print(model.score(X_test,y_test))\n",
    "\n",
    "sns.heatmap(confusion_matrix(y_train,y_pred),annot=True,fmt='3.0f',cmap=\"summer\")\n",
    "plt.title('Confusion_matrix for RF', y=1.05, size=15)\n"
   ]
  },
  {
   "cell_type": "code",
   "execution_count": 67,
   "metadata": {},
   "outputs": [],
   "source": [
    "\n",
    "    q=[]\n",
    "    j=0\n",
    "for i in range(892,1310):\n",
    "        q.append(i)\n",
    "dict={'PassengerId':q,'Survived':predicted_labels}\n",
    "df = pd.DataFrame(dict) \n",
    "df.to_csv(r'C:\\Users\\Rishabh\\Documents\\Titanic_Solution.csv',index=False)"
   ]
  },
  {
   "cell_type": "code",
   "execution_count": null,
   "metadata": {},
   "outputs": [],
   "source": []
  },
  {
   "cell_type": "code",
   "execution_count": null,
   "metadata": {},
   "outputs": [],
   "source": []
  }
 ],
 "metadata": {
  "kernelspec": {
   "display_name": "Python 3",
   "language": "python",
   "name": "python3"
  },
  "language_info": {
   "codemirror_mode": {
    "name": "ipython",
    "version": 3
   },
   "file_extension": ".py",
   "mimetype": "text/x-python",
   "name": "python",
   "nbconvert_exporter": "python",
   "pygments_lexer": "ipython3",
   "version": "3.7.4"
  }
 },
 "nbformat": 4,
 "nbformat_minor": 2
}
